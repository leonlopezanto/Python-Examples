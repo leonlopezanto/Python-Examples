{
 "cells": [
  {
   "cell_type": "markdown",
   "metadata": {},
   "source": [
    "# Exercise 1 \n",
    "### Write a program that stores the password string in a variable, ask the user for the password, and print out on screen if the password entered by the user matches the one stored in the variable regardless of case."
   ]
  },
  {
   "cell_type": "code",
   "execution_count": 6,
   "metadata": {},
   "outputs": [
    {
     "name": "stdout",
     "output_type": "stream",
     "text": [
      "Introduce the password: tHeRiGhTcHoIcE\n",
      "Correct!\n"
     ]
    }
   ],
   "source": [
    "password = 'TheRightChoice'\n",
    "\n",
    "inp = input('Introduce the password: ')\n",
    "\n",
    "if(password.lower() == inp.lower()):\n",
    "    print('Correct!')\n",
    "else:\n",
    "    print('Something was wrong!')"
   ]
  },
  {
   "cell_type": "markdown",
   "metadata": {},
   "source": [
    "# Exercise 2\n",
    "### Write a program that asks the user for two numbers and shows on screen their division. If the divisor is zero the program must show an error."
   ]
  },
  {
   "cell_type": "code",
   "execution_count": 17,
   "metadata": {},
   "outputs": [
    {
     "name": "stdout",
     "output_type": "stream",
     "text": [
      "Devider: 1\n",
      "Divisor: 0\n",
      "You almost destroy the world!\n"
     ]
    }
   ],
   "source": [
    "n1 = float(input(\"Devider: \"))\n",
    "n2 = float(input(\"Divisor: \"))\n",
    "\n",
    "if(n2 == 0):\n",
    "    print(\"You almost destroy the world!\")\n",
    "else:\n",
    "    print(\"Solution: \", n1/n2)"
   ]
  },
  {
   "cell_type": "markdown",
   "metadata": {},
   "source": [
    "# Exercise 3\n",
    "### Write a program that asks the user for an integer and displays whether it is odd or even."
   ]
  },
  {
   "cell_type": "code",
   "execution_count": null,
   "metadata": {},
   "outputs": [],
   "source": [
    "a = int(float(input(\"Write a number: \")))\n",
    "\n",
    "if( a%2 == 0):\n",
    "    print(\"It is even.\")\n",
    "else:\n",
    "    print(\"It is odd.\")"
   ]
  },
  {
   "cell_type": "markdown",
   "metadata": {},
   "source": [
    "# Exercise 4\n",
    "### Write a program that asks the user for an integer and displays whether it is odd or even."
   ]
  },
  {
   "cell_type": "code",
   "execution_count": null,
   "metadata": {},
   "outputs": [],
   "source": [
    "name = input(\"Write your name: \")\n",
    "gender = None\n",
    "while(gender != \"m\" or gender != \"f\"):\n",
    "    gender = input(\"Male or female?(m/f):\").lower()\n",
    "    print(gender)"
   ]
  },
  {
   "cell_type": "code",
   "execution_count": null,
   "metadata": {},
   "outputs": [],
   "source": []
  }
 ],
 "metadata": {
  "kernelspec": {
   "display_name": "Python 3",
   "language": "python",
   "name": "python3"
  },
  "language_info": {
   "codemirror_mode": {
    "name": "ipython",
    "version": 3
   },
   "file_extension": ".py",
   "mimetype": "text/x-python",
   "name": "python",
   "nbconvert_exporter": "python",
   "pygments_lexer": "ipython3",
   "version": "3.7.5"
  }
 },
 "nbformat": 4,
 "nbformat_minor": 2
}
