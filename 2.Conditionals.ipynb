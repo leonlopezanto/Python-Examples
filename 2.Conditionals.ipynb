{
 "cells": [
  {
   "cell_type": "markdown",
   "metadata": {},
   "source": [
    "# Exercise 1 \n",
    "### Write a program that stores the password string in a variable, ask the user for the password, and print out on screen if the password entered by the user matches the one stored in the variable regardless of case."
   ]
  },
  {
   "cell_type": "code",
   "execution_count": 7,
   "metadata": {},
   "outputs": [
    {
     "name": "stdout",
     "output_type": "stream",
     "text": [
      "Introduce the password: ThERIGHTCHoIcE\n",
      "Correct!\n"
     ]
    }
   ],
   "source": [
    "password = 'TheRightChoice'\n",
    "\n",
    "inp = input('Introduce the password: ')\n",
    "\n",
    "if(password.lower() == inp.lower()):\n",
    "    print('Correct!')\n",
    "else:\n",
    "    print('Something was wrong!')"
   ]
  },
  {
   "cell_type": "markdown",
   "metadata": {},
   "source": [
    "# Exercise 2\n",
    "### Write a program that asks the user for two numbers and shows on screen their division. If the divisor is zero the program must show an error."
   ]
  },
  {
   "cell_type": "code",
   "execution_count": 8,
   "metadata": {},
   "outputs": [
    {
     "name": "stdout",
     "output_type": "stream",
     "text": [
      "Devider: 5\n",
      "Divisor: 49\n",
      "Solution:  0.10204081632653061\n"
     ]
    }
   ],
   "source": [
    "n1 = float(input(\"Devider: \"))\n",
    "n2 = float(input(\"Divisor: \"))\n",
    "\n",
    "if(n2 == 0):\n",
    "    print(\"You almost destroy the world!\")\n",
    "else:\n",
    "    print(\"Solution: \", n1/n2)"
   ]
  },
  {
   "cell_type": "markdown",
   "metadata": {},
   "source": [
    "# Exercise 3\n",
    "### Write a program that asks the user for an integer and displays whether it is odd or even."
   ]
  },
  {
   "cell_type": "code",
   "execution_count": 9,
   "metadata": {},
   "outputs": [
    {
     "name": "stdout",
     "output_type": "stream",
     "text": [
      "Write a number: 789\n",
      "It is odd.\n"
     ]
    }
   ],
   "source": [
    "a = int(float(input(\"Write a number: \")))\n",
    "\n",
    "if( a%2 == 0):\n",
    "    print(\"It is even.\")\n",
    "else:\n",
    "    print(\"It is odd.\")"
   ]
  },
  {
   "cell_type": "markdown",
   "metadata": {},
   "source": [
    "# Exercise 4\n",
    "### Students in a course have been divided into two groups A and B according to gender and name. Group A is formed by women with a name before M and men with a name after N and group B by the rest. Write a program that asks the user his/her name and sex, and shows the corresponding group on the screen."
   ]
  },
  {
   "cell_type": "code",
   "execution_count": 2,
   "metadata": {},
   "outputs": [
    {
     "name": "stdout",
     "output_type": "stream",
     "text": [
      "Write your name: Carmen\n",
      "Male or Female (m/f): f\n",
      "You are in A\n",
      "Repeat? (y/n): y\n",
      "Write your name: Antonio\n",
      "Male or Female (m/f): m\n",
      "You are in B\n",
      "\n",
      "Repeat? (y/n): y\n",
      "Write your name: Zacarias\n",
      "Male or Female (m/f): m\n",
      "You are in A\n",
      "Repeat? (y/n): y\n",
      "Write your name: susana\n",
      "Male or Female (m/f): f\n",
      "You are in B\n",
      "\n",
      "Repeat? (y/n): n\n"
     ]
    }
   ],
   "source": [
    "repeat = True\n",
    "while(repeat == True):\n",
    "    name = input(\"Write your name: \")\n",
    "    gender = input(\"Male or Female (m/f): \")\n",
    "    if (gender == \"m\" and name.lower() >'m') or (gender == \"f\" and name.lower() < 'n'):\n",
    "       print('You are in A')\n",
    "    else:\n",
    "       print('You are in B\\n')\n",
    "    "
   ]
  },
  {
   "cell_type": "markdown",
   "metadata": {},
   "source": [
    "# Exercise 5\n",
    "### The tax brackets for filing a tax return in a given country are as follows:\n",
    "#### Income Tax rate\n",
    "#### Less than 10,000 euros 5%.\n",
    "#### Between 10,000 and 20,000 euros 15%.\n",
    "#### Between 200,000 and 35,000 euros 20%.\n",
    "#### Between 350000 ? and 60000 ? 30%.\n",
    "#### More than 60,000 euros 45%\n",
    "### Write a program that asks the user his/her annual income and shows on screen the corresponding tax rate."
   ]
  },
  {
   "cell_type": "code",
   "execution_count": 9,
   "metadata": {},
   "outputs": [
    {
     "name": "stdout",
     "output_type": "stream",
     "text": [
      "Annual Income: 27000\n",
      "20%\n"
     ]
    }
   ],
   "source": [
    "income = float(input(\"Annual Income: \"))\n",
    "\n",
    "if income < 10000:\n",
    "    print(\"5%\")\n",
    "elif  income < 20000:\n",
    "    print(\"15%\")\n",
    "elif income < 35000:\n",
    "    print(\"20%\")\n",
    "elif income < 60000:\n",
    "    print(\"30%\")\n",
    "else: \n",
    "    print(\"45%\")\n",
    "\n"
   ]
  },
  {
   "cell_type": "markdown",
   "metadata": {},
   "source": [
    "# Exercise 6\n",
    "### In a given company, its employees are evaluated at the end of each year. The points they can obtain in the evaluation start at 0.0 and can be increased, translating into better benefits. The points that employees can obtain can be 0.0, 0.4, 0.6 or more, but not intermediate values between the mentioned figures. Below is a table with the levels corresponding to each score. The amount of money obtained in each level is 2,400 euros multiplied by the score of the level.\n",
    "#### Level Score\n",
    "#### Unacceptable 0.0\n",
    "#### Acceptable 0.4\n",
    "#### Meritorious 0.6 or more\n",
    "\n",
    "### Write a program that reads the user's score and indicates their level of performance, as well as the amount of money the user will receive."
   ]
  },
  {
   "cell_type": "code",
   "execution_count": 6,
   "metadata": {},
   "outputs": [
    {
     "name": "stdout",
     "output_type": "stream",
     "text": [
      "Write an score.0.6\n",
      "Level of performance:  Meritorious\n",
      "Money:  1440.0\n"
     ]
    }
   ],
   "source": [
    "i = False\n",
    "while i==False:\n",
    "    score = float(input(\"Write an score.\"))\n",
    "    if score == 0 or score == 0.4 or score == 0.6:\n",
    "        i = True\n",
    "\n",
    "money = 2400\n",
    "performanceLevel = ['Unacceptable', 'Acceptable', 'Meritorious']\n",
    "\n",
    "#Show performance level\n",
    "if score == 0:\n",
    "    print(\"Level of performance: \", performanceLevel[0])\n",
    "elif score == 0.4:\n",
    "    print(\"Level of performance: \", performanceLevel[1])\n",
    "else:\n",
    "    print(\"Level of performance: \", performanceLevel[2])\n",
    "          \n",
    "print('Money: ', money*score)\n",
    "\n",
    "        "
   ]
  },
  {
   "cell_type": "code",
   "execution_count": null,
   "metadata": {},
   "outputs": [],
   "source": []
  },
  {
   "cell_type": "code",
   "execution_count": null,
   "metadata": {},
   "outputs": [],
   "source": []
  }
 ],
 "metadata": {
  "kernelspec": {
   "display_name": "Python 3",
   "language": "python",
   "name": "python3"
  },
  "language_info": {
   "codemirror_mode": {
    "name": "ipython",
    "version": 3
   },
   "file_extension": ".py",
   "mimetype": "text/x-python",
   "name": "python",
   "nbconvert_exporter": "python",
   "pygments_lexer": "ipython3",
   "version": "3.7.5"
  }
 },
 "nbformat": 4,
 "nbformat_minor": 2
}
