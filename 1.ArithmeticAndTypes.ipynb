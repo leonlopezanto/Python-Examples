{
 "cells": [
  {
   "cell_type": "markdown",
   "metadata": {},
   "source": [
    "# Exercise 1\n",
    "#### Write a program that asks for the user's name in the console and after the user enters it displays the string Hello 'name'!, where 'name' is the name the user entered."
   ]
  },
  {
   "cell_type": "code",
   "execution_count": 1,
   "metadata": {},
   "outputs": [
    {
     "name": "stdout",
     "output_type": "stream",
     "text": [
      "Introduce your name:\n",
      "Leon Lopez\n",
      "Hello  Leon Lopez !\n"
     ]
    }
   ],
   "source": [
    "#Ask the name\n",
    "print('Introduce your name:')\n",
    "name = input()\n",
    "\n",
    "#Show the name\n",
    "print('Hello ', name, '!')"
   ]
  },
  {
   "cell_type": "markdown",
   "metadata": {},
   "source": [
    "# Exercise 2\n",
    "#### Write a program that asks the user's name on the console and a whole number and prints out the user's name on different lines as many times as the number entered."
   ]
  },
  {
   "cell_type": "code",
   "execution_count": 2,
   "metadata": {},
   "outputs": [
    {
     "name": "stdout",
     "output_type": "stream",
     "text": [
      "Introduce your name:\n",
      "Leon Lopez\n",
      "Introduce a number:\n",
      "5\n",
      "Hello Leon Lopez!\n",
      "Hello Leon Lopez!\n",
      "Hello Leon Lopez!\n",
      "Hello Leon Lopez!\n",
      "Hello Leon Lopez!\n",
      "\n"
     ]
    }
   ],
   "source": [
    "#Ask the name\n",
    "print('Introduce your name:')\n",
    "name = input()\n",
    "\n",
    "#Ask the number\n",
    "print('Introduce a number:')\n",
    "number = input()\n",
    "\n",
    "#Show results - convert str number to int\n",
    "print(('Hello '+ name + '!\\n')*int(number))"
   ]
  },
  {
   "cell_type": "markdown",
   "metadata": {},
   "source": [
    "# Exercise 3\n",
    "#### Write a program that asks the user's name on the console and after the user enters it displays 'NAME' has 'n' letters, where  'NAME' is the user name in capital letters and 'n' is the number of letters that have the name."
   ]
  },
  {
   "cell_type": "code",
   "execution_count": 3,
   "metadata": {},
   "outputs": [
    {
     "name": "stdout",
     "output_type": "stream",
     "text": [
      "Introduce your name:\n",
      "Leon Lopez\n",
      "Leon Lopez has  9  letters.\n"
     ]
    }
   ],
   "source": [
    "#Ask the name\n",
    "print('Introduce your name:')\n",
    "name = input()\n",
    "\n",
    "#Number of string is len of string without blank spaces\n",
    "print(name + ' has ', len(name.replace(\" \", \"\")) ,' letters.')"
   ]
  },
  {
   "cell_type": "markdown",
   "metadata": {},
   "source": [
    "# Exercise 4\n",
    "#### Write a program that asks the user for the number of hours worked and the cost per hour. Then you must show on the screen the corresponding pay."
   ]
  },
  {
   "cell_type": "code",
   "execution_count": 4,
   "metadata": {},
   "outputs": [
    {
     "name": "stdout",
     "output_type": "stream",
     "text": [
      "How many hours have you worked?\n",
      "5\n",
      "Cost per hour?\n",
      "4.2\n",
      "You should earn  21.0 $\n"
     ]
    }
   ],
   "source": [
    "print('How many hours have you worked?')\n",
    "nhours = float(input())\n",
    "print('Cost per hour?')\n",
    "cost = float(input())\n",
    "\n",
    "#Calculate money and print. Round the money to 3 floats.\n",
    "print('You should earn ', round(nhours * cost, 3), '$')"
   ]
  },
  {
   "cell_type": "markdown",
   "metadata": {},
   "source": [
    "# Exercise 5\n",
    "#### Write a program that reads a positive integer, 𝑛, entered by the user and then displays the sum of all integers from 1 to 𝑛. The sum of the first positive integers 𝑛 can be calculated as follows: $sum = \\frac{n(n+1)}{2} $"
   ]
  },
  {
   "cell_type": "code",
   "execution_count": 6,
   "metadata": {},
   "outputs": [
    {
     "name": "stdout",
     "output_type": "stream",
     "text": [
      "Introduce your number: \n",
      "10\n",
      "Result  55.0\n"
     ]
    }
   ],
   "source": [
    "print('Introduce your number: ')\n",
    "n = float(input())\n",
    "\n",
    "sum = lambda x: (x*(x+1))/2\n",
    "result = sum(n)\n",
    "print('Result ', result)"
   ]
  },
  {
   "cell_type": "markdown",
   "metadata": {},
   "source": [
    "# Exercise 6\n",
    "#### Write a program that asks the user an amount to invest, the annual interest and the number of years, and shows by screen the capital obtained in the investment."
   ]
  },
  {
   "cell_type": "code",
   "execution_count": 9,
   "metadata": {},
   "outputs": [
    {
     "name": "stdout",
     "output_type": "stream",
     "text": [
      "How much will you invest?10\n",
      "Annual interest?\n",
      "10\n",
      "How many years?\n",
      "5\n",
      "Result:  16.11\n"
     ]
    }
   ],
   "source": [
    "\n",
    "amount = float(input(\"How much will you invest?\"))\n",
    "print(\"Annual interest?\")\n",
    "interest = float(input())\n",
    "print(\"How many years?\")\n",
    "years = int(input())\n",
    "\n",
    "sol = lambda x, y, z: round(x*(y/100 + 1)**z, 2)\n",
    "\n",
    "print(\"Result: \", str(sol(amount, interest, years)))"
   ]
  },
  {
   "cell_type": "markdown",
   "metadata": {},
   "source": [
    "# Exercise 7\n",
    "#### Imagine that you have just opened a new savings account that offers 4% interest per year. These savings due to interest, which is not charged until the end of the year, are added to your final savings account balance. Write a program that starts by reading the amount of money deposited in the savings account, entered by the user. Then the program should calculate and display the amount of savings after the first, second and third years. Round each amount to two decimal places.\n"
   ]
  },
  {
   "cell_type": "code",
   "execution_count": 8,
   "metadata": {},
   "outputs": [
    {
     "name": "stdout",
     "output_type": "stream",
     "text": [
      "Amount:50\n",
      "Money the first year:  52.0\n",
      "Money the second year:  54.08\n",
      "Money the third year:  56.24\n"
     ]
    }
   ],
   "source": [
    "amount = float(input('Amount:'))\n",
    "\n",
    "money = lambda x: (x * (4/100))+x\n",
    "\n",
    "yearone = money(amount)\n",
    "print('Money the first year: ', round(yearone, 2))\n",
    "yeartwo = money(yearone)\n",
    "print('Money the second year: ', round(yeartwo, 2))\n",
    "yearthree = money(yeartwo)\n",
    "print('Money the third year: ', round(yearthree, 2))"
   ]
  },
  {
   "cell_type": "markdown",
   "metadata": {},
   "source": [
    "# Exercise 8\n",
    "#### One bakery sells loaves of bread at 3.49 dollars each. Bread that is not the day has a 60% discount. Write a program that starts by reading the number of bars sold that are not of the day. Then the program should show the usual price of a loaf of bread, the discount given for not being fresh and the total final cost."
   ]
  },
  {
   "cell_type": "code",
   "execution_count": 12,
   "metadata": {},
   "outputs": [
    {
     "name": "stdout",
     "output_type": "stream",
     "text": [
      "Number of loaves of bread selled today.5\n",
      "Normal prize:  3.49\n",
      "Discount prize:  1.4\n",
      "Cost of sell discount loaves:  6.98\n"
     ]
    }
   ],
   "source": [
    "loaves = int(input(\"Number of loaves of bread selled today.\"))\n",
    "discount = 1 - 60/100\n",
    "prize = 3.49\n",
    "print(\"Normal prize: \", prize)\n",
    "print(\"Discount prize: \", round(prize*discount, 2))\n",
    "print(\"Cost of sell discount loaves: \", round(prize*discount*(loaves),2))"
   ]
  }
 ],
 "metadata": {
  "kernelspec": {
   "display_name": "Python 3",
   "language": "python",
   "name": "python3"
  },
  "language_info": {
   "codemirror_mode": {
    "name": "ipython",
    "version": 3
   },
   "file_extension": ".py",
   "mimetype": "text/x-python",
   "name": "python",
   "nbconvert_exporter": "python",
   "pygments_lexer": "ipython3",
   "version": "3.7.5"
  }
 },
 "nbformat": 4,
 "nbformat_minor": 2
}
