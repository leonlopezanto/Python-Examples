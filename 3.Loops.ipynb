{
 "cells": [
  {
   "cell_type": "markdown",
   "metadata": {},
   "source": [
    "# Exercise 1\n",
    "### Write a program that asks the user for a word and displays it on the screen 10 times."
   ]
  },
  {
   "cell_type": "code",
   "execution_count": 2,
   "metadata": {},
   "outputs": [
    {
     "name": "stdout",
     "output_type": "stream",
     "text": [
      "Your name, please: Leon Lopez\n",
      "Leon Lopez\n",
      "Leon Lopez\n",
      "Leon Lopez\n",
      "Leon Lopez\n",
      "Leon Lopez\n",
      "Leon Lopez\n",
      "Leon Lopez\n",
      "Leon Lopez\n",
      "Leon Lopez\n",
      "Leon Lopez\n"
     ]
    }
   ],
   "source": [
    "name = input(\"Your name, please: \")\n",
    "\n",
    "for i in range(10):\n",
    "    print(name)"
   ]
  },
  {
   "cell_type": "markdown",
   "metadata": {},
   "source": [
    "# Exercise 2\n",
    "### Write a program that asks the user his/her age and shows on screen all the years  (from 1 to his/her age)."
   ]
  },
  {
   "cell_type": "code",
   "execution_count": 9,
   "metadata": {},
   "outputs": [
    {
     "name": "stdout",
     "output_type": "stream",
     "text": [
      "Your age please: 15\n",
      "1 2 3 4 5 6 7 8 9 10 11 12 13 14 15 "
     ]
    }
   ],
   "source": [
    "age = int(input(\"Your age please: \"))\n",
    "\n",
    "for i in range(age):\n",
    "    print(i+1, end=\" \")"
   ]
  },
  {
   "cell_type": "markdown",
   "metadata": {},
   "source": [
    "# Exercise 3\n",
    "### Write a program that asks the user for a positive integer and displays all odd numbers from 1 to that number separated by commas."
   ]
  },
  {
   "cell_type": "code",
   "execution_count": 4,
   "metadata": {},
   "outputs": [
    {
     "name": "stdout",
     "output_type": "stream",
     "text": [
      "Introduce a number: 10\n",
      "1,3,5,7,9,"
     ]
    }
   ],
   "source": [
    "number = int(input('Introduce a number: '))\n",
    "\n",
    "for i in range(1, number+1, 2): #From 1 to n+1 jumping two positions\n",
    "    print(i, end=\",\")"
   ]
  },
  {
   "cell_type": "markdown",
   "metadata": {},
   "source": [
    "# Exercise 4\n",
    "### Write a program that asks the user for a positive integer and displays the countdown from that number to zero separated by commas."
   ]
  },
  {
   "cell_type": "code",
   "execution_count": 3,
   "metadata": {},
   "outputs": [
    {
     "name": "stdout",
     "output_type": "stream",
     "text": [
      "Introduce a number: 10\n",
      "10,9,8,7,6,5,4,3,2,1,"
     ]
    }
   ],
   "source": [
    "number = int(input('Introduce a number: '))\n",
    "\n",
    "for i in range(number, 0, -1): #The countdown is done with -1\n",
    "    print(i, end=\",\")"
   ]
  },
  {
   "cell_type": "markdown",
   "metadata": {},
   "source": [
    "# Exercise 5\n",
    "### Write a program that asks the user an amount to invest, the annual interest and the number of years, and shows by screen the capital obtained in the investment each year that the investment lasts."
   ]
  },
  {
   "cell_type": "code",
   "execution_count": 2,
   "metadata": {},
   "outputs": [
    {
     "name": "stdout",
     "output_type": "stream",
     "text": [
      "Amount to invest: 1000\n",
      "Annual Interest(in %): 10\n",
      "Number of years: 5\n",
      "Year  1 :  1100.0\n",
      "Year  2 :  1210.0\n",
      "Year  3 :  1331.0\n",
      "Year  4 :  1464.1\n",
      "Year  5 :  1610.51\n"
     ]
    }
   ],
   "source": [
    "invest = float(input(\"Amount to invest: \"))\n",
    "interest = float(input(\"Annual Interest(in %): \"))\n",
    "years = int(input(\"Number of years: \"))\n",
    "\n",
    "for i in range(years):\n",
    "    invest = invest + (invest*(interest/100))\n",
    "    \n",
    "    print(\"Year \", i+1, \": \", round(invest, 3))"
   ]
  },
  {
   "cell_type": "markdown",
   "metadata": {},
   "source": [
    "# Exercise 6\n",
    "### Write a program that asks the user for a whole number and displays a right triangle of height the number entered."
   ]
  },
  {
   "cell_type": "code",
   "execution_count": 1,
   "metadata": {},
   "outputs": [
    {
     "name": "stdout",
     "output_type": "stream",
     "text": [
      "Introduce a number: 20\n",
      "*\n",
      "**\n",
      "***\n",
      "****\n",
      "*****\n",
      "******\n",
      "*******\n",
      "********\n",
      "*********\n",
      "**********\n",
      "***********\n",
      "************\n",
      "*************\n",
      "**************\n",
      "***************\n",
      "****************\n",
      "*****************\n",
      "******************\n",
      "*******************\n",
      "********************\n"
     ]
    }
   ],
   "source": [
    "high = int(input('Introduce a number: '))\n",
    "\n",
    "for i in range(high):\n",
    "    print('*'*(i+1))"
   ]
  },
  {
   "cell_type": "markdown",
   "metadata": {},
   "source": [
    "# Exercise 7\n",
    "### Write a program that displays the multiplication table from 1 to 10."
   ]
  },
  {
   "cell_type": "code",
   "execution_count": 20,
   "metadata": {},
   "outputs": [
    {
     "name": "stdout",
     "output_type": "stream",
     "text": [
      "Table  1 : \n",
      "1\t2\t3\t4\t5\t6\t7\t8\t9\t10\t\n",
      "\n",
      "Table  2 : \n",
      "2\t4\t6\t8\t10\t12\t14\t16\t18\t20\t\n",
      "\n",
      "Table  3 : \n",
      "3\t6\t9\t12\t15\t18\t21\t24\t27\t30\t\n",
      "\n",
      "Table  4 : \n",
      "4\t8\t12\t16\t20\t24\t28\t32\t36\t40\t\n",
      "\n",
      "Table  5 : \n",
      "5\t10\t15\t20\t25\t30\t35\t40\t45\t50\t\n",
      "\n",
      "Table  6 : \n",
      "6\t12\t18\t24\t30\t36\t42\t48\t54\t60\t\n",
      "\n",
      "Table  7 : \n",
      "7\t14\t21\t28\t35\t42\t49\t56\t63\t70\t\n",
      "\n",
      "Table  8 : \n",
      "8\t16\t24\t32\t40\t48\t56\t64\t72\t80\t\n",
      "\n",
      "Table  9 : \n",
      "9\t18\t27\t36\t45\t54\t63\t72\t81\t90\t\n",
      "\n",
      "Table  10 : \n",
      "10\t20\t30\t40\t50\t60\t70\t80\t90\t100\t\n",
      "\n"
     ]
    }
   ],
   "source": [
    "for i in range(10):\n",
    "    print(\"Table \", i+1, \": \")\n",
    "    for j in range(10):\n",
    "        print((i+1)*(j+1), end=\"\\t\");\n",
    "    print(\"\\n\")"
   ]
  },
  {
   "cell_type": "markdown",
   "metadata": {},
   "source": [
    "# Exercise 8\n",
    "### Write a program that asks the user for a whole number and displays a right triangle with odd numbers."
   ]
  },
  {
   "cell_type": "code",
   "execution_count": 32,
   "metadata": {},
   "outputs": [
    {
     "name": "stdout",
     "output_type": "stream",
     "text": [
      "Introduce the high: 5\n",
      "1 \n",
      "\n",
      "3 1 \n",
      "\n",
      "5 3 1 \n",
      "\n"
     ]
    }
   ],
   "source": [
    "high = int(input('Introduce the high: '))\n",
    "\n",
    "for i in range(1, high+1, 2):\n",
    "    for j in range(i, 0, -2):\n",
    "        print(j, end=\" \")\n",
    "    print('\\n')\n",
    "    "
   ]
  },
  {
   "cell_type": "code",
   "execution_count": null,
   "metadata": {},
   "outputs": [],
   "source": []
  }
 ],
 "metadata": {
  "kernelspec": {
   "display_name": "Python 3",
   "language": "python",
   "name": "python3"
  },
  "language_info": {
   "codemirror_mode": {
    "name": "ipython",
    "version": 3
   },
   "file_extension": ".py",
   "mimetype": "text/x-python",
   "name": "python",
   "nbconvert_exporter": "python",
   "pygments_lexer": "ipython3",
   "version": "3.7.5"
  }
 },
 "nbformat": 4,
 "nbformat_minor": 2
}
